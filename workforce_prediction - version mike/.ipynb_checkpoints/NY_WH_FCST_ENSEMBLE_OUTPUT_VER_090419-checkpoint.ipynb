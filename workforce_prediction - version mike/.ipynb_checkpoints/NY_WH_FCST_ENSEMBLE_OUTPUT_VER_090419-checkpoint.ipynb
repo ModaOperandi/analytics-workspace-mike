{
 "cells": [
  {
   "cell_type": "markdown",
   "metadata": {},
   "source": [
    "# NY Warehouse Flow Forecasting\n",
    "\n",
    "In this notebook, we tried to predict the inbound & outbound traffic from the warehouse, in order to help allocate workforce. Noted that the max capacity of the warehouse is 3500 orders/day as of July 2019, but our predictions are not limited by that.\n",
    "\n",
    "There are six types of warehouse activities:\n",
    "\n",
    "Outbound customer order\n",
    "Outbound items transfer\n",
    "Outbound purchase order return\n",
    "Inbound customer return\n",
    "Inbound items transfer\n",
    "Inbound purchase order"
   ]
  },
  {
   "cell_type": "code",
   "execution_count": 1,
   "metadata": {},
   "outputs": [
    {
     "name": "stderr",
     "output_type": "stream",
     "text": [
      "ERROR:fbprophet:Importing plotly failed. Interactive plots will not work.\n"
     ]
    }
   ],
   "source": [
    "import pandas as pd\n",
    "import numpy as np\n",
    "import queries.utils as utils\n",
    "from functools import reduce\n",
    "from matplotlib import pyplot as plt\n",
    "from datetime import date, timedelta\n",
    "\n",
    "#### bigquery client & credentials\n",
    "import os\n",
    "from google.cloud import bigquery\n",
    "os.environ[\"GOOGLE_APPLICATION_CREDENTIALS\"] = r\"C:\\Users\\m.young\\Documents\\BigQueryAPIKey\\modata-79d448dbeef0.json\"\n",
    "client = bigquery.Client()\n",
    "\n",
    "#### fbprophet \n",
    "import fbprophet\n",
    "from fbprophet.diagnostics import cross_validation\n",
    "from fbprophet.diagnostics import performance_metrics\n",
    "from fbprophet.plot import plot_cross_validation_metric\n",
    "from fbprophet.plot import add_changepoints_to_plot\n",
    "\n",
    "pd.plotting.register_matplotlib_converters() ## bugs.. fbprophet & matplotlib"
   ]
  },
  {
   "cell_type": "markdown",
   "metadata": {},
   "source": [
    "## A. IMPORT DATA"
   ]
  },
  {
   "cell_type": "markdown",
   "metadata": {},
   "source": [
    "### 1. Actuals Data"
   ]
  },
  {
   "cell_type": "code",
   "execution_count": 2,
   "metadata": {},
   "outputs": [],
   "source": [
    "# BQ query\n",
    "wh_actuals_query = \"\"\"\n",
    "SELECT\n",
    "     *\n",
    "FROM adhoc_analytics.project_inven_forecast_actuals_EST\n",
    "  \"\"\"\n",
    "\n",
    "# put query results into pandas df\n",
    "data_raw_all = client.query(wh_actuals_query).to_dataframe()\n",
    "\n",
    "# convert date column to datetime data type\n",
    "data_raw_all['date_est'] = pd.to_datetime(data_raw_all['date_est'])\n",
    "\n",
    "# sort by date desc\n",
    "data_raw_all.sort_values(by='date_est', inplace=True)\n",
    "\n",
    "# reset index numbers after sort\n",
    "data_raw_all.reset_index(drop=True, inplace=True)\n",
    "\n",
    "# replace NaN with 0s\n",
    "data_raw_all.fillna(0, inplace=True)"
   ]
  },
  {
   "cell_type": "markdown",
   "metadata": {},
   "source": [
    "### 2. FB Prophet Holidays Data"
   ]
  },
  {
   "cell_type": "code",
   "execution_count": 4,
   "metadata": {},
   "outputs": [],
   "source": [
    "# BQ query\n",
    "holidays_inputs_query = \"\"\"\n",
    "SELECT\n",
    "     *\n",
    "FROM adhoc_analytics.project_inven_forecast_fbprophet_events_inputs\n",
    "  \"\"\"\n",
    "\n",
    "# put query results into pandas df\n",
    "holidays_inputs = client.query(holidays_inputs_query).to_dataframe()\n",
    "\n",
    "# convert date column to datetime data type\n",
    "holidays_inputs['ds'] = pd.to_datetime(holidays_inputs['ds'])"
   ]
  },
  {
   "cell_type": "code",
   "execution_count": 5,
   "metadata": {},
   "outputs": [],
   "source": [
    "co_holidays = holidays_inputs[holidays_inputs['event_type'] == 'Customer Orders']\n",
    "co_holidays.reset_index(drop=True, inplace=True)\n",
    "\n",
    "po_holidays = holidays_inputs[holidays_inputs['event_type'] == 'Purchase Orders']\n",
    "po_holidays.reset_index(drop=True, inplace=True)\n",
    "\n",
    "cr_holidays = holidays_inputs[holidays_inputs['event_type'] == 'Customer Returns']\n",
    "cr_holidays.reset_index(drop=True, inplace=True)"
   ]
  },
  {
   "cell_type": "markdown",
   "metadata": {},
   "source": [
    "## B. Prepare Data"
   ]
  },
  {
   "cell_type": "markdown",
   "metadata": {},
   "source": [
    "### 1. Prepare Actuals Data for Multiple Models"
   ]
  },
  {
   "cell_type": "code",
   "execution_count": 6,
   "metadata": {},
   "outputs": [],
   "source": [
    "# Outbound - Customer Orders\n",
    "co_dat = data_raw_all[['date_est','OUT_CUST_UNITS']]\n",
    "co_dat = co_dat.rename(columns={'date_est':'ds','OUT_CUST_UNITS':'y'})\n",
    "\n",
    "# Outbound - Vendor Returns\n",
    "vr_dat = data_raw_all[['date_est','OUT_VR_UNITS']]\n",
    "vr_dat = vr_dat.rename(columns={'date_est':'ds','OUT_VR_UNITS':'y'})\n",
    "\n",
    "# Outbound - Transfer Orders\n",
    "oto_dat = data_raw_all[['date_est','OUT_TO_UNITS']]\n",
    "oto_dat = oto_dat.rename(columns={'date_est':'ds','OUT_TO_UNITS':'y'})\n",
    "\n",
    "# Inbound - Customer Returns\n",
    "cr_dat = data_raw_all[['date_est','IN_CUST_UNITS']]\n",
    "cr_dat = cr_dat.rename(columns={'date_est':'ds','IN_CUST_UNITS':'y'})\n",
    "\n",
    "# Inbound - Purchase Orders\n",
    "po_dat = data_raw_all[['date_est','IN_PO_UNITS']]\n",
    "po_dat = po_dat.rename(columns={'date_est':'ds','IN_PO_UNITS':'y'})\n",
    "\n",
    "# Inbound - Transfer Orders\n",
    "ito_dat = data_raw_all[['date_est','IN_TO_UNITS']]\n",
    "ito_dat = ito_dat.rename(columns={'date_est':'ds','IN_TO_UNITS':'y'})"
   ]
  },
  {
   "cell_type": "markdown",
   "metadata": {},
   "source": [
    "### 2. Prepare Train vs Test Datasets for FB Prophet Models"
   ]
  },
  {
   "cell_type": "code",
   "execution_count": 7,
   "metadata": {},
   "outputs": [],
   "source": [
    "# Parameters Settings\n",
    "# Setting the train test cutoff date\n",
    "split_date = date.today() - timedelta(3)\n",
    "split_date = split_date.strftime('%Y-%m-%d') \n",
    "\n",
    "# Days ahead to forecast\n",
    "forward_days = 100  # set up how"
   ]
  },
  {
   "cell_type": "code",
   "execution_count": 8,
   "metadata": {},
   "outputs": [],
   "source": [
    "# Outbound Customer Orders\n",
    "co_dat_train = co_dat.loc[co_dat.ds<split_date , :]\n",
    "co_dat_test = co_dat.loc[co_dat.ds>=split_date , :]\n",
    "\n",
    "# Outbound - Vendor Returns\n",
    "vr_dat_train = vr_dat.loc[vr_dat.ds<split_date , :]\n",
    "vr_dat_test = vr_dat.loc[vr_dat.ds>=split_date , :]\n",
    "\n",
    "# Outbound - Transfer Orders\n",
    "oto_dat_train = oto_dat.loc[oto_dat.ds<split_date , :]\n",
    "oto_dat_test = oto_dat.loc[oto_dat.ds>=split_date , :]\n",
    "\n",
    "# Inbound - Customer Returns\n",
    "cr_dat_train = cr_dat.loc[cr_dat.ds<split_date , :]\n",
    "cr_dat_test = cr_dat.loc[cr_dat.ds>=split_date , :]\n",
    "\n",
    "# Inbound - Purchase Orders\n",
    "po_dat_train = po_dat.loc[po_dat.ds<split_date , :]\n",
    "po_dat_test = po_dat.loc[po_dat.ds>=split_date , :]\n",
    "\n",
    "# Inbound - Transfer Orders\n",
    "ito_dat_train = ito_dat.loc[ito_dat.ds<split_date , :]\n",
    "ito_dat_test = ito_dat.loc[ito_dat.ds>=split_date , :]\n"
   ]
  },
  {
   "cell_type": "code",
   "execution_count": 9,
   "metadata": {},
   "outputs": [],
   "source": [
    "# Outbound Customer Orders\n",
    "co_dat_all = pd.concat([co_dat_train, co_dat_test])\n",
    "\n",
    "# Outbound - Vendor Returns\n",
    "vr_dat_all = pd.concat([vr_dat_train, vr_dat_test])\n",
    "\n",
    "# Outbound - Transfer Orders\n",
    "oto_dat_all = pd.concat([oto_dat_train, oto_dat_test])\n",
    "\n",
    "# Inbound - Customer Returns\n",
    "cr_dat_all = pd.concat([cr_dat_train, cr_dat_test])\n",
    "\n",
    "# Inbound - Purchase Orders\n",
    "po_dat_all = pd.concat([po_dat_train, po_dat_test])\n",
    "\n",
    "# Inbound - Transfer Orders\n",
    "ito_dat_all = pd.concat([ito_dat_train, ito_dat_test])"
   ]
  },
  {
   "cell_type": "code",
   "execution_count": 10,
   "metadata": {},
   "outputs": [],
   "source": [
    "fbprophet.__version__\n",
    "Prophet = fbprophet.Prophet"
   ]
  },
  {
   "cell_type": "markdown",
   "metadata": {},
   "source": [
    "## C. FB Prophet Model - Outbound Customer Orders"
   ]
  },
  {
   "cell_type": "code",
   "execution_count": 11,
   "metadata": {},
   "outputs": [
    {
     "name": "stderr",
     "output_type": "stream",
     "text": [
      "C:\\Users\\m.young\\AppData\\Local\\Continuum\\anaconda3\\lib\\site-packages\\fbprophet\\forecaster.py:159: SettingWithCopyWarning: \n",
      "A value is trying to be set on a copy of a slice from a DataFrame.\n",
      "Try using .loc[row_indexer,col_indexer] = value instead\n",
      "\n",
      "See the caveats in the documentation: http://pandas.pydata.org/pandas-docs/stable/indexing.html#indexing-view-versus-copy\n",
      "  self.holidays['ds'] = pd.to_datetime(self.holidays['ds'])\n"
     ]
    }
   ],
   "source": [
    "co_m = Prophet(changepoint_prior_scale=0.1, changepoint_range=0.9 ,\\\n",
    "            seasonality_mode='multiplicative', seasonality_prior_scale = 10 ,\\\n",
    "            holidays_prior_scale = 10, \\\n",
    "            yearly_seasonality=True, \\\n",
    "            weekly_seasonality=True, \\\n",
    "            daily_seasonality=False \\\n",
    "           ,holidays = co_holidays\n",
    "           )\n",
    "\n",
    "co_m_full = Prophet(changepoint_prior_scale=0.1, changepoint_range=0.9 ,\\\n",
    "            seasonality_mode='multiplicative', seasonality_prior_scale = 10 ,\\\n",
    "            holidays_prior_scale = 10, \\\n",
    "            yearly_seasonality=True, \\\n",
    "            weekly_seasonality=True, \\\n",
    "            daily_seasonality=False \\\n",
    "           ,holidays = co_holidays\n",
    "           )"
   ]
  },
  {
   "cell_type": "code",
   "execution_count": 12,
   "metadata": {},
   "outputs": [
    {
     "name": "stderr",
     "output_type": "stream",
     "text": [
      "C:\\Users\\m.young\\AppData\\Local\\Continuum\\anaconda3\\lib\\site-packages\\pystan\\misc.py:399: FutureWarning: Conversion of the second argument of issubdtype from `float` to `np.floating` is deprecated. In future, it will be treated as `np.float64 == np.dtype(float).type`.\n",
      "  elif np.issubdtype(np.asarray(v).dtype, float):\n",
      "C:\\Users\\m.young\\AppData\\Local\\Continuum\\anaconda3\\lib\\site-packages\\pystan\\misc.py:399: FutureWarning: Conversion of the second argument of issubdtype from `float` to `np.floating` is deprecated. In future, it will be treated as `np.float64 == np.dtype(float).type`.\n",
      "  elif np.issubdtype(np.asarray(v).dtype, float):\n"
     ]
    }
   ],
   "source": [
    "# fit the model\n",
    "co_m.fit(co_dat_train)\n",
    "co_m_full.fit(co_dat_all)\n",
    "\n",
    "# predict forward_days \n",
    "co_future = co_m.make_future_dataframe(periods=len(co_dat_test)+forward_days, freq='1D')\n",
    "co_forecast = co_m.predict(co_future)"
   ]
  },
  {
   "cell_type": "markdown",
   "metadata": {},
   "source": [
    "## D. FB Prophet Model - Inbound Purchase Orders"
   ]
  },
  {
   "cell_type": "code",
   "execution_count": 13,
   "metadata": {},
   "outputs": [],
   "source": [
    "# ADDITONAL REGRESSOR - Purchase Orders Estimated Delivery Windows\n",
    "\n",
    "# BQ query\n",
    "po_est_query = \"\"\"\n",
    "SELECT\n",
    "     date AS ds\n",
    "    ,IN_PO_EST AS reg\n",
    "FROM adhoc_analytics.project_inven_forecast_purchase_orders\n",
    "  \"\"\"\n",
    "\n",
    "# put query results into pandas df\n",
    "po_reg_1_full = client.query(po_est_query).to_dataframe()\n",
    "\n",
    "# convert date column to datetime data type\n",
    "po_reg_1_full['ds'] = pd.to_datetime(po_reg_1_full['ds'])\n",
    "\n",
    "# sort by date desc\n",
    "po_reg_1_full.sort_values(by='ds', inplace=True)\n",
    "\n",
    "# reset index numbers after sort\n",
    "po_reg_1_full.reset_index(drop=True, inplace=True)\n",
    "\n",
    "# replace NaN with 0s\n",
    "po_reg_1_full.fillna(0, inplace=True)\n",
    "\n",
    "# split for train test\n",
    "po_reg_1_train = po_reg_1_full[po_reg_1_full['ds']<split_date]"
   ]
  },
  {
   "cell_type": "code",
   "execution_count": 14,
   "metadata": {},
   "outputs": [
    {
     "name": "stderr",
     "output_type": "stream",
     "text": [
      "C:\\Users\\m.young\\AppData\\Local\\Continuum\\anaconda3\\lib\\site-packages\\fbprophet\\forecaster.py:159: SettingWithCopyWarning: \n",
      "A value is trying to be set on a copy of a slice from a DataFrame.\n",
      "Try using .loc[row_indexer,col_indexer] = value instead\n",
      "\n",
      "See the caveats in the documentation: http://pandas.pydata.org/pandas-docs/stable/indexing.html#indexing-view-versus-copy\n",
      "  self.holidays['ds'] = pd.to_datetime(self.holidays['ds'])\n",
      "C:\\Users\\m.young\\AppData\\Local\\Continuum\\anaconda3\\lib\\site-packages\\ipykernel_launcher.py:20: SettingWithCopyWarning: \n",
      "A value is trying to be set on a copy of a slice from a DataFrame.\n",
      "Try using .loc[row_indexer,col_indexer] = value instead\n",
      "\n",
      "See the caveats in the documentation: http://pandas.pydata.org/pandas-docs/stable/indexing.html#indexing-view-versus-copy\n"
     ]
    },
    {
     "data": {
      "text/plain": [
       "<fbprophet.forecaster.Prophet at 0x2268b6d18d0>"
      ]
     },
     "execution_count": 14,
     "metadata": {},
     "output_type": "execute_result"
    }
   ],
   "source": [
    "po_m = Prophet(changepoint_prior_scale=0.1, changepoint_range=0.9 ,\\\n",
    "            seasonality_mode='multiplicative', seasonality_prior_scale = 10 ,\\\n",
    "            holidays_prior_scale = 10, \\\n",
    "            yearly_seasonality=True, \\\n",
    "            weekly_seasonality=True, \\\n",
    "            daily_seasonality=False \\\n",
    "           ,holidays = po_holidays\n",
    "           )\n",
    "\n",
    "po_m_full = Prophet(changepoint_prior_scale=0.1, changepoint_range=0.9 ,\\\n",
    "            seasonality_mode='multiplicative', seasonality_prior_scale = 10 ,\\\n",
    "            holidays_prior_scale = 10, \\\n",
    "            yearly_seasonality=True, \\\n",
    "            weekly_seasonality=True, \\\n",
    "            daily_seasonality=False \\\n",
    "           ,holidays = po_holidays\n",
    "           )\n",
    "\n",
    "# ### Add extra regressors\n",
    "po_dat_train['reg'] = po_reg_1_train['reg']\n",
    "po_m.add_regressor('reg', prior_scale = 10, mode='multiplicative') \n",
    "\n",
    "po_dat_all['reg'] = po_reg_1_full['reg']\n",
    "po_m_full.add_regressor('reg', prior_scale = 10, mode='multiplicative') "
   ]
  },
  {
   "cell_type": "code",
   "execution_count": 15,
   "metadata": {},
   "outputs": [
    {
     "name": "stderr",
     "output_type": "stream",
     "text": [
      "C:\\Users\\m.young\\AppData\\Local\\Continuum\\anaconda3\\lib\\site-packages\\pystan\\misc.py:399: FutureWarning: Conversion of the second argument of issubdtype from `float` to `np.floating` is deprecated. In future, it will be treated as `np.float64 == np.dtype(float).type`.\n",
      "  elif np.issubdtype(np.asarray(v).dtype, float):\n",
      "C:\\Users\\m.young\\AppData\\Local\\Continuum\\anaconda3\\lib\\site-packages\\pystan\\misc.py:399: FutureWarning: Conversion of the second argument of issubdtype from `float` to `np.floating` is deprecated. In future, it will be treated as `np.float64 == np.dtype(float).type`.\n",
      "  elif np.issubdtype(np.asarray(v).dtype, float):\n"
     ]
    }
   ],
   "source": [
    "# fit the model\n",
    "po_m.fit(po_dat_train)\n",
    "po_m_full.fit(po_dat_all)\n",
    "\n",
    "# predict forward_days \n",
    "po_future = po_m.make_future_dataframe(periods=len(po_dat_test)+forward_days, freq='1D')\n",
    "po_future['reg'] = po_reg_1_full['reg']\n",
    "\n",
    "po_forecast = po_m.predict(po_future)"
   ]
  },
  {
   "cell_type": "markdown",
   "metadata": {},
   "source": [
    "## E. FB Prophet Model - Inbound Customer Returns"
   ]
  },
  {
   "cell_type": "code",
   "execution_count": 16,
   "metadata": {
    "scrolled": true
   },
   "outputs": [
    {
     "name": "stderr",
     "output_type": "stream",
     "text": [
      "C:\\Users\\m.young\\AppData\\Local\\Continuum\\anaconda3\\lib\\site-packages\\fbprophet\\forecaster.py:159: SettingWithCopyWarning: \n",
      "A value is trying to be set on a copy of a slice from a DataFrame.\n",
      "Try using .loc[row_indexer,col_indexer] = value instead\n",
      "\n",
      "See the caveats in the documentation: http://pandas.pydata.org/pandas-docs/stable/indexing.html#indexing-view-versus-copy\n",
      "  self.holidays['ds'] = pd.to_datetime(self.holidays['ds'])\n",
      "C:\\Users\\m.young\\AppData\\Local\\Continuum\\anaconda3\\lib\\site-packages\\pystan\\misc.py:399: FutureWarning: Conversion of the second argument of issubdtype from `float` to `np.floating` is deprecated. In future, it will be treated as `np.float64 == np.dtype(float).type`.\n",
      "  elif np.issubdtype(np.asarray(v).dtype, float):\n",
      "C:\\Users\\m.young\\AppData\\Local\\Continuum\\anaconda3\\lib\\site-packages\\pystan\\misc.py:399: FutureWarning: Conversion of the second argument of issubdtype from `float` to `np.floating` is deprecated. In future, it will be treated as `np.float64 == np.dtype(float).type`.\n",
      "  elif np.issubdtype(np.asarray(v).dtype, float):\n"
     ]
    }
   ],
   "source": [
    "cr_m = Prophet(changepoint_prior_scale=0.1, changepoint_range=0.9 ,\\\n",
    "            seasonality_mode='multiplicative', seasonality_prior_scale = 10 ,\\\n",
    "            holidays_prior_scale = 10, \\\n",
    "            yearly_seasonality=True, \\\n",
    "            weekly_seasonality=True, \\\n",
    "            daily_seasonality=False \\\n",
    "            ,holidays = cr_holidays\n",
    "            \n",
    "           )\n",
    "\n",
    "cr_m_full = Prophet(changepoint_prior_scale=0.1, changepoint_range=0.9 ,\\\n",
    "            seasonality_mode='multiplicative', seasonality_prior_scale = 10 ,\\\n",
    "            holidays_prior_scale = 10, \\\n",
    "            yearly_seasonality=True, \\\n",
    "            weekly_seasonality=True, \\\n",
    "            daily_seasonality=False \\\n",
    "            ,holidays = cr_holidays\n",
    "           )\n",
    "\n",
    "# fit the model\n",
    "cr_m.fit(cr_dat_train)\n",
    "cr_m_full.fit(cr_dat_all)\n",
    "\n",
    "# predict forward_days \n",
    "cr_future = cr_m.make_future_dataframe(periods=len(cr_dat_test)+forward_days, freq='1D')\n",
    "cr_forecast = cr_m.predict(cr_future)"
   ]
  },
  {
   "cell_type": "markdown",
   "metadata": {},
   "source": [
    "## F. FB Prophet Model - Inbound Transfer Orders"
   ]
  },
  {
   "cell_type": "code",
   "execution_count": 17,
   "metadata": {
    "scrolled": true
   },
   "outputs": [
    {
     "name": "stderr",
     "output_type": "stream",
     "text": [
      "C:\\Users\\m.young\\AppData\\Local\\Continuum\\anaconda3\\lib\\site-packages\\pystan\\misc.py:399: FutureWarning: Conversion of the second argument of issubdtype from `float` to `np.floating` is deprecated. In future, it will be treated as `np.float64 == np.dtype(float).type`.\n",
      "  elif np.issubdtype(np.asarray(v).dtype, float):\n",
      "C:\\Users\\m.young\\AppData\\Local\\Continuum\\anaconda3\\lib\\site-packages\\pystan\\misc.py:399: FutureWarning: Conversion of the second argument of issubdtype from `float` to `np.floating` is deprecated. In future, it will be treated as `np.float64 == np.dtype(float).type`.\n",
      "  elif np.issubdtype(np.asarray(v).dtype, float):\n"
     ]
    }
   ],
   "source": [
    "ito_m = Prophet(changepoint_prior_scale=0.1, changepoint_range=0.9 ,\\\n",
    "            seasonality_mode='multiplicative', seasonality_prior_scale = 10 ,\\\n",
    "            holidays_prior_scale = 10, \\\n",
    "            yearly_seasonality=True, \\\n",
    "            weekly_seasonality=True, \\\n",
    "            daily_seasonality=False \\\n",
    "           #,holidays = ito_holidays\n",
    "           )\n",
    "\n",
    "ito_m_full = Prophet(changepoint_prior_scale=0.1, changepoint_range=0.9 ,\\\n",
    "            seasonality_mode='multiplicative', seasonality_prior_scale = 10 ,\\\n",
    "            holidays_prior_scale = 10, \\\n",
    "            yearly_seasonality=True, \\\n",
    "            weekly_seasonality=True, \\\n",
    "            daily_seasonality=False \\\n",
    "           #,holidays = ito_holidays\n",
    "           )\n",
    "\n",
    "# fit the model\n",
    "ito_m.fit(ito_dat_train)\n",
    "ito_m_full.fit(ito_dat_all)\n",
    "\n",
    "# predict forward_days \n",
    "ito_future = ito_m.make_future_dataframe(periods=len(ito_dat_test)+forward_days, freq='1D')\n",
    "ito_forecast = ito_m.predict(ito_future)"
   ]
  },
  {
   "cell_type": "markdown",
   "metadata": {},
   "source": [
    "## G. FB Prophet Model - Outbound Vendor Returns"
   ]
  },
  {
   "cell_type": "code",
   "execution_count": 18,
   "metadata": {
    "scrolled": true
   },
   "outputs": [
    {
     "name": "stderr",
     "output_type": "stream",
     "text": [
      "C:\\Users\\m.young\\AppData\\Local\\Continuum\\anaconda3\\lib\\site-packages\\pystan\\misc.py:399: FutureWarning: Conversion of the second argument of issubdtype from `float` to `np.floating` is deprecated. In future, it will be treated as `np.float64 == np.dtype(float).type`.\n",
      "  elif np.issubdtype(np.asarray(v).dtype, float):\n",
      "C:\\Users\\m.young\\AppData\\Local\\Continuum\\anaconda3\\lib\\site-packages\\pystan\\misc.py:399: FutureWarning: Conversion of the second argument of issubdtype from `float` to `np.floating` is deprecated. In future, it will be treated as `np.float64 == np.dtype(float).type`.\n",
      "  elif np.issubdtype(np.asarray(v).dtype, float):\n"
     ]
    }
   ],
   "source": [
    "vr_m = Prophet(changepoint_prior_scale=0.1, changepoint_range=0.9 ,\\\n",
    "            seasonality_mode='multiplicative', seasonality_prior_scale = 10 ,\\\n",
    "            holidays_prior_scale = 10, \\\n",
    "            yearly_seasonality=True, \\\n",
    "            weekly_seasonality=True, \\\n",
    "            daily_seasonality=False \\\n",
    "           #,holidays = vr_holidays\n",
    "           )\n",
    "\n",
    "vr_m_full = Prophet(changepoint_prior_scale=0.1, changepoint_range=0.9 ,\\\n",
    "            seasonality_mode='multiplicative', seasonality_prior_scale = 10 ,\\\n",
    "            holidays_prior_scale = 10, \\\n",
    "            yearly_seasonality=True, \\\n",
    "            weekly_seasonality=True, \\\n",
    "            daily_seasonality=False \\\n",
    "           #,holidays = vr_holidays\n",
    "           )\n",
    "\n",
    "# fit the model\n",
    "vr_m.fit(vr_dat_train)\n",
    "vr_m_full.fit(vr_dat_all)\n",
    "\n",
    "# predict forward_days \n",
    "vr_future = vr_m.make_future_dataframe(periods=len(vr_dat_test)+forward_days, freq='1D')\n",
    "vr_forecast = vr_m.predict(vr_future)"
   ]
  },
  {
   "cell_type": "markdown",
   "metadata": {},
   "source": [
    "## H. FB Prophet Model - Outbound Transfer Orders"
   ]
  },
  {
   "cell_type": "code",
   "execution_count": 19,
   "metadata": {},
   "outputs": [
    {
     "name": "stderr",
     "output_type": "stream",
     "text": [
      "C:\\Users\\m.young\\AppData\\Local\\Continuum\\anaconda3\\lib\\site-packages\\pystan\\misc.py:399: FutureWarning: Conversion of the second argument of issubdtype from `float` to `np.floating` is deprecated. In future, it will be treated as `np.float64 == np.dtype(float).type`.\n",
      "  elif np.issubdtype(np.asarray(v).dtype, float):\n",
      "C:\\Users\\m.young\\AppData\\Local\\Continuum\\anaconda3\\lib\\site-packages\\pystan\\misc.py:399: FutureWarning: Conversion of the second argument of issubdtype from `float` to `np.floating` is deprecated. In future, it will be treated as `np.float64 == np.dtype(float).type`.\n",
      "  elif np.issubdtype(np.asarray(v).dtype, float):\n"
     ]
    }
   ],
   "source": [
    "oto_m = Prophet(changepoint_prior_scale=0.1, changepoint_range=0.9 ,\\\n",
    "            seasonality_mode='multiplicative', seasonality_prior_scale = 10 ,\\\n",
    "            holidays_prior_scale = 10, \\\n",
    "            yearly_seasonality=True, \\\n",
    "            weekly_seasonality=True, \\\n",
    "            daily_seasonality=False \\\n",
    "           #,holidays = oto_holidays\n",
    "           )\n",
    "\n",
    "oto_m_full = Prophet(changepoint_prior_scale=0.1, changepoint_range=0.9 ,\\\n",
    "            seasonality_mode='multiplicative', seasonality_prior_scale = 10 ,\\\n",
    "            holidays_prior_scale = 10, \\\n",
    "            yearly_seasonality=True, \\\n",
    "            weekly_seasonality=True, \\\n",
    "            daily_seasonality=False \\\n",
    "           #,holidays = oto_holidays\n",
    "           )\n",
    "\n",
    "# fit the model\n",
    "oto_m.fit(oto_dat_train)\n",
    "oto_m_full.fit(oto_dat_all)\n",
    "\n",
    "# predict forward_days \n",
    "oto_future = oto_m.make_future_dataframe(periods=len(oto_dat_test)+forward_days, freq='1D')\n",
    "oto_forecast = oto_m.predict(oto_future)"
   ]
  },
  {
   "cell_type": "markdown",
   "metadata": {},
   "source": [
    "# --FINAL FB Prophet Ensemble Outputs--"
   ]
  },
  {
   "cell_type": "code",
   "execution_count": 20,
   "metadata": {},
   "outputs": [
    {
     "name": "stderr",
     "output_type": "stream",
     "text": [
      "C:\\Users\\m.young\\AppData\\Local\\Continuum\\anaconda3\\lib\\site-packages\\pandas\\core\\frame.py:4025: SettingWithCopyWarning: \n",
      "A value is trying to be set on a copy of a slice from a DataFrame\n",
      "\n",
      "See the caveats in the documentation: http://pandas.pydata.org/pandas-docs/stable/indexing.html#indexing-view-versus-copy\n",
      "  return super(DataFrame, self).rename(**kwargs)\n"
     ]
    }
   ],
   "source": [
    "co_forecast.loc[ co_forecast['yhat'] < 0.0, 'yhat'] = 0\n",
    "po_forecast.loc[ po_forecast['yhat'] < 0.0, 'yhat'] = 0\n",
    "cr_forecast.loc[ cr_forecast['yhat'] < 0.0, 'yhat'] = 0\n",
    "ito_forecast.loc[ito_forecast['yhat'] < 0.0, 'yhat'] = 0\n",
    "oto_forecast.loc[oto_forecast['yhat'] < 0.0, 'yhat'] = 0\n",
    "vr_forecast.loc[ vr_forecast['yhat'] < 0.0, 'yhat'] = 0\n",
    "\n",
    "co_ensemble  =  co_forecast[['ds','yhat']]\n",
    "po_ensemble  =  po_forecast[['ds','yhat']]\n",
    "cr_ensemble  =  cr_forecast[['ds','yhat']]\n",
    "ito_ensemble = ito_forecast[['ds','yhat']]\n",
    "oto_ensemble = oto_forecast[['ds','yhat']]\n",
    "vr_ensemble  =  vr_forecast[['ds','yhat']]\n",
    "\n",
    "co_ensemble.rename(columns  ={'ds':'date_est','yhat':'fcst_out_co'} ,inplace=True)  \n",
    "po_ensemble.rename(columns  ={'yhat':'fcst_in_po'} ,inplace=True)   \n",
    "cr_ensemble.rename(columns  ={'yhat':'fcst_in_cr'} ,inplace=True)   \n",
    "ito_ensemble.rename(columns ={'yhat':'fcst_in_ito'} ,inplace=True)  \n",
    "oto_ensemble.rename(columns ={'yhat':'fcst_out_oto'} ,inplace=True)  \n",
    "vr_ensemble.rename(columns  ={'yhat':'fcst_out_vr'} ,inplace=True)   "
   ]
  },
  {
   "cell_type": "code",
   "execution_count": 21,
   "metadata": {},
   "outputs": [],
   "source": [
    "# join outputs\n",
    "\n",
    "dfs = [co_ensemble[['date_est','fcst_out_co']] \\\n",
    "      ,po_ensemble[['ds','fcst_in_po']] \\\n",
    "      ,cr_ensemble[['ds','fcst_in_cr']] \\\n",
    "      ,ito_ensemble[['ds','fcst_in_ito']] \\\n",
    "      ,oto_ensemble[['ds','fcst_out_oto']] \\\n",
    "      ,vr_ensemble[['ds','fcst_out_vr']]] \n",
    "nan_value = 0\n",
    "\n",
    "fcst_ensemble = pd.concat(dfs, join='outer', axis=1).fillna(nan_value)\n",
    "fcst_ensemble.drop(columns=['ds'], inplace = True)\n",
    "\n",
    "\n",
    "#create total columns\n",
    "fcst_ensemble['fcst_total_ins'] =    fcst_ensemble['fcst_in_cr'] \\\n",
    "                                   + fcst_ensemble['fcst_in_po'] \\\n",
    "                                   + fcst_ensemble['fcst_in_ito']\n",
    "\n",
    "fcst_ensemble['fcst_total_outs'] =   fcst_ensemble['fcst_out_co'] \\\n",
    "                                   + fcst_ensemble['fcst_out_oto'] \\\n",
    "                                   + fcst_ensemble['fcst_out_vr'] \\\n",
    "\n",
    "fcst_ensemble['fcst_total_flow'] =   fcst_ensemble['fcst_out_co'] \\\n",
    "                                   + fcst_ensemble['fcst_out_oto'] \\\n",
    "                                   + fcst_ensemble['fcst_out_vr'] \\\n",
    "                                   + fcst_ensemble['fcst_in_cr'] \\\n",
    "                                   + fcst_ensemble['fcst_in_po'] \\\n",
    "                                   + fcst_ensemble['fcst_in_ito']\n",
    "\n",
    "fcst_ensemble['fcst_total_flow_adj'] = fcst_ensemble['fcst_out_co'] \\\n",
    "                                   + fcst_ensemble['fcst_out_oto'] \\\n",
    "                                   + fcst_ensemble['fcst_in_cr'] \\\n",
    "                                   + fcst_ensemble['fcst_in_po'] \\\n",
    "                                   + fcst_ensemble['fcst_in_ito'] "
   ]
  },
  {
   "cell_type": "code",
   "execution_count": 22,
   "metadata": {},
   "outputs": [
    {
     "name": "stderr",
     "output_type": "stream",
     "text": [
      "1442 out of 1442 rows loaded._gbq.gbq:\n",
      "1it [00:03,  3.34s/it]\n"
     ]
    }
   ],
   "source": [
    "# export model outputs data to bigquery\n",
    "fcst_ensemble.to_gbq('adhoc_analytics.project_inven_forecast_fbprophet_outputs',project_id='moda-operandi-dw',if_exists = 'replace')"
   ]
  },
  {
   "cell_type": "code",
   "execution_count": 23,
   "metadata": {},
   "outputs": [],
   "source": [
    "# BQ query | model outputs with actuals\n",
    "fbprophet_outputs_query = \"\"\"\n",
    "SELECT\n",
    "     CURRENT_TIMESTAMP()              AS MODEL_UPDATED_TIMESTAMP\n",
    "    ,timestamp(CAST(fct.date_est AS DATETIME),\"America/New_York\")   AS DATE_EST\n",
    "    ,ROUND(fcst_out_co,0)\t     AS FORECAST_out_customer_order_units\n",
    "    ,ROUND(fcst_out_oto,0)\t   AS FORECAST_out_transfer_order_units\n",
    "    ,ROUND(fcst_out_vr,0)\t     AS FORECAST_out_vendor_return_units\n",
    "    ,ROUND(fcst_in_cr,0)\t     AS FORECAST_in_customer_return_units\n",
    "    ,ROUND(fcst_in_ito,0)\t     AS FORECAST_in_transfer_order_units\n",
    "    ,ROUND(fcst_in_po,0)\t     AS FORECAST_in_purchase_order_units\n",
    "    ,ROUND(fcst_total_outs,0)\t AS FORECAST_total_out_units          \n",
    "    ,ROUND(fcst_total_ins,0)\t AS FORECAST_total_in_units            \n",
    "    ,ROUND(fcst_total_flow,0)\t AS FORECAST_total_all_units          \n",
    "\n",
    "    ,EST.OUT_CUST_UNITS\t       AS ACTUALS_out_customer_order_units\n",
    "    ,EST.OUT_TO_UNITS\t         AS ACTUALS_out_transfer_order_units\n",
    "    ,EST.OUT_VR_UNITS\t         AS ACTUALS_out_vendor_return_units\n",
    "    ,EST.IN_CUST_UNITS\t       AS ACTUALS_in_customer_return_units\n",
    "    ,EST.IN_TO_UNITS\t         AS ACTUALS_in_transfer_order_units\n",
    "    ,EST.IN_PO_UNITS\t         AS ACTUALS_in_purchase_order_units  \n",
    "    ,EST.TTL_OUT_UNITS\t       AS ACTUALS_total_out_units          \n",
    "    ,EST.TTL_IN_UNITS\t         AS ACTUALS_total_in_units           \n",
    "    ,EST.TTL_ALL_UNITS\t       AS ACTUALS_total_all_units          \n",
    "    \n",
    "FROM adhoc_analytics.project_inven_forecast_fbprophet_outputs fct\n",
    "     LEFT JOIN adhoc_analytics.project_inven_forecast_actuals_EST EST\n",
    "            ON CAST(fct.date_est AS DATE) = CAST(EST.date_est AS DATE)\n",
    "WHERE\n",
    "     CAST(fct.date_est AS DATE) <= DATE_ADD(CURRENT_DATE(), INTERVAL 100 DAY)\n",
    "     \n",
    "ORDER BY fct.date_est DESC \n",
    "  \"\"\"\n",
    "\n",
    "# put query results into pandas df\n",
    "fbprophet_outputs = client.query(fbprophet_outputs_query).to_dataframe()"
   ]
  },
  {
   "cell_type": "code",
   "execution_count": 25,
   "metadata": {},
   "outputs": [
    {
     "name": "stderr",
     "output_type": "stream",
     "text": [
      "1442 out of 1442 rows loaded._gbq.gbq:\n",
      "1it [00:04,  4.31s/it]\n"
     ]
    }
   ],
   "source": [
    "# export model outputs with actuals data to bigquery\n",
    "fbprophet_outputs.to_gbq('adhoc_analytics.project_inven_forecast_fbprophet_outputs_looker',project_id='moda-operandi-dw',if_exists = 'append')"
   ]
  }
 ],
 "metadata": {
  "kernelspec": {
   "display_name": "Python 3",
   "language": "python",
   "name": "python3"
  },
  "language_info": {
   "codemirror_mode": {
    "name": "ipython",
    "version": 3
   },
   "file_extension": ".py",
   "mimetype": "text/x-python",
   "name": "python",
   "nbconvert_exporter": "python",
   "pygments_lexer": "ipython3",
   "version": "3.7.3"
  }
 },
 "nbformat": 4,
 "nbformat_minor": 2
}
